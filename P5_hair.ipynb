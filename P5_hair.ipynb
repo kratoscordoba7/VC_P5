{
 "cells": [
  {
   "cell_type": "markdown",
   "metadata": {},
   "source": [
    "Cambia el color del pelo"
   ]
  },
  {
   "cell_type": "code",
   "execution_count": null,
   "metadata": {},
   "outputs": [
    {
     "ename": "KeyboardInterrupt",
     "evalue": "",
     "output_type": "error",
     "traceback": [
      "\u001b[1;31m---------------------------------------------------------------------------\u001b[0m",
      "\u001b[1;31mKeyboardInterrupt\u001b[0m                         Traceback (most recent call last)",
      "Cell \u001b[1;32mIn[2], line 23\u001b[0m\n\u001b[0;32m     20\u001b[0m fps_limit \u001b[38;5;241m=\u001b[39m \u001b[38;5;241m15\u001b[39m  \u001b[38;5;66;03m# Limitar a 15 FPS para procesamiento\u001b[39;00m\n\u001b[0;32m     22\u001b[0m \u001b[38;5;28;01mwhile\u001b[39;00m \u001b[38;5;28;01mTrue\u001b[39;00m:\n\u001b[1;32m---> 23\u001b[0m     ret, frame \u001b[38;5;241m=\u001b[39m \u001b[43mcap\u001b[49m\u001b[38;5;241;43m.\u001b[39;49m\u001b[43mread\u001b[49m\u001b[43m(\u001b[49m\u001b[43m)\u001b[49m\n\u001b[0;32m     24\u001b[0m     \u001b[38;5;28;01mif\u001b[39;00m \u001b[38;5;129;01mnot\u001b[39;00m ret:\n\u001b[0;32m     25\u001b[0m         \u001b[38;5;28;01mbreak\u001b[39;00m\n",
      "\u001b[1;31mKeyboardInterrupt\u001b[0m: "
     ]
    },
    {
     "ename": "",
     "evalue": "",
     "output_type": "error",
     "traceback": [
      "\u001b[1;31mThe Kernel crashed while executing code in the current cell or a previous cell. \n",
      "\u001b[1;31mPlease review the code in the cell(s) to identify a possible cause of the failure. \n",
      "\u001b[1;31mClick <a href='https://aka.ms/vscodeJupyterKernelCrash'>here</a> for more info. \n",
      "\u001b[1;31mView Jupyter <a href='command:jupyter.viewOutput'>log</a> for further details."
     ]
    }
   ],
   "source": [
    "import mediapipe as mp\n",
    "from mediapipe.tasks.python import vision\n",
    "from mediapipe.tasks.python import BaseOptions\n",
    "import cv2\n",
    "import numpy as np\n",
    "import time\n",
    "\n",
    "# Configuración del ImageSegmenter\n",
    "options = vision.ImageSegmenterOptions(\n",
    "    base_options=BaseOptions(model_asset_path=\"models/hair_segmenter.tflite\"),\n",
    "    output_category_mask=True,\n",
    "    running_mode=vision.RunningMode.LIVE_STREAM, \n",
    "    result_callback=lambda result, output_image, timestamp_ms: setattr(segmenter, 'last_result', result)\n",
    ")\n",
    "segmenter = vision.ImageSegmenter.create_from_options(options)\n",
    "\n",
    "# Leer el video de entrada\n",
    "cap = cv2.VideoCapture(0)\n",
    "prev_time = 0\n",
    "fps_limit = 15  # Limitar a 15 FPS para procesamiento\n",
    "\n",
    "while True:\n",
    "    ret, frame = cap.read()\n",
    "    if not ret:\n",
    "        break\n",
    "\n",
    "    # Reducción de resolución para mejorar velocidad de procesamiento\n",
    "    frame_resized = cv2.resize(frame, (640, 480))  \n",
    "    frame_rgb = cv2.cvtColor(frame_resized, cv2.COLOR_BGR2RGB)\n",
    "    frame_rgb = mp.Image(image_format=mp.ImageFormat.SRGB, data=frame_rgb)\n",
    "\n",
    "    # Controlamos tasa de frames\n",
    "    current_time = time.time()\n",
    "    if (current_time - prev_time) * 1000 >= (1000 / fps_limit):  \n",
    "        segmenter.segment_async(frame_rgb, time.time_ns() // 1_000_000)\n",
    "        prev_time = current_time\n",
    "\n",
    "    # Procesar y mostrar resultados si existen\n",
    "    if hasattr(segmenter, 'last_result') and segmenter.last_result:\n",
    "        segmentation_result = segmenter.last_result\n",
    "        category_mask = segmentation_result.category_mask.numpy_view()\n",
    "\n",
    "        # Crear máscara de color solo en la región de cabello\n",
    "        hair_color = (255, 255, 255)  # Blanco en BGR\n",
    "        color_mask = np.zeros_like(frame_resized)\n",
    "        color_mask[category_mask == 1] = hair_color\n",
    "\n",
    "        # Aplicamos un desenfoque a la máscara para un efecto más suave\n",
    "        blurred_mask = cv2.GaussianBlur(color_mask, (15, 15), 0)\n",
    "\n",
    "        # Mezclamos de imagen original con la máscara de color para resaltar el cabello\n",
    "        final_frame = cv2.addWeighted(frame_resized, 1, blurred_mask, 0.4, 0)\n",
    "\n",
    "        # Visualizar el resultado final\n",
    "        cv2.imshow(\"Hair Color Segmentation - White Effect\", final_frame)\n",
    "\n",
    "    # Salir con la tecla 'Esc'\n",
    "    if cv2.waitKey(1) & 0xFF == 27:\n",
    "        break\n",
    "\n",
    "cap.release()\n",
    "cv2.destroyAllWindows()\n"
   ]
  }
 ],
 "metadata": {
  "kernelspec": {
   "display_name": "VC_P5",
   "language": "python",
   "name": "python3"
  },
  "language_info": {
   "codemirror_mode": {
    "name": "ipython",
    "version": 3
   },
   "file_extension": ".py",
   "mimetype": "text/x-python",
   "name": "python",
   "nbconvert_exporter": "python",
   "pygments_lexer": "ipython3",
   "version": "3.11.5"
  }
 },
 "nbformat": 4,
 "nbformat_minor": 2
}
